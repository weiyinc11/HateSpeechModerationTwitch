{
 "cells": [
  {
   "cell_type": "code",
   "execution_count": 1,
   "metadata": {},
   "outputs": [],
   "source": [
    "import pandas as pd"
   ]
  },
  {
   "cell_type": "code",
   "execution_count": 2,
   "metadata": {},
   "outputs": [],
   "source": [
    "file = './data/test_set.csv'\n",
    "df = pd.read_csv(file)"
   ]
  },
  {
   "cell_type": "code",
   "execution_count": 3,
   "metadata": {},
   "outputs": [
    {
     "data": {
      "text/plain": [
       "Index(['Unnamed: 0', 'msg_sent', 'label', 'text', 'moderation',\n",
       "       'twitch_output', 'dataset'],\n",
       "      dtype='object')"
      ]
     },
     "execution_count": 3,
     "metadata": {},
     "output_type": "execute_result"
    }
   ],
   "source": [
    "df.columns"
   ]
  },
  {
   "cell_type": "code",
   "execution_count": 5,
   "metadata": {},
   "outputs": [],
   "source": [
    "from sklearn.metrics import f1_score, precision_score, recall_score, accuracy_score, confusion_matrix\n",
    "df = pd.read_csv(file)\n",
    "# df.dropna(subset='moderation', inplace=True)\n",
    "f1 = f1_score(df['label'], df['moderation'])\n",
    "precision = precision_score(df['label'], df['moderation'])\n",
    "recall = recall_score(df['label'], df['moderation'])\n",
    "accuracy = accuracy_score(df['label'], df['moderation'])\n",
    "\n",
    "cm = confusion_matrix(df['label'], df['moderation'])\n",
    "tnr = cm[0,0]/(cm[0,0]+cm[0,1])\n",
    "f1_tnr_tpr = 2*(recall*tnr)/(recall+tnr)\n",
    "report = {\n",
    "        \"Recall\": recall,\n",
    "        \"Precision\": precision,\n",
    "        \"F1\": f1,\n",
    "        \"Accuracy\": accuracy,\n",
    "        \"TNR\": tnr,\n",
    "        \"f1_tnr_tpr\": f1_tnr_tpr\n",
    "}"
   ]
  },
  {
   "cell_type": "code",
   "execution_count": 6,
   "metadata": {},
   "outputs": [
    {
     "data": {
      "text/plain": [
       "{'Recall': 0.2412,\n",
       " 'Precision': 0.5823273780782231,\n",
       " 'F1': 0.3411115825201527,\n",
       " 'Accuracy': 0.5341,\n",
       " 'TNR': 0.827,\n",
       " 'f1_tnr_tpr': 0.3734738812956375}"
      ]
     },
     "execution_count": 6,
     "metadata": {},
     "output_type": "execute_result"
    }
   ],
   "source": [
    "report"
   ]
  },
  {
   "cell_type": "code",
   "execution_count": null,
   "metadata": {},
   "outputs": [],
   "source": []
  }
 ],
 "metadata": {
  "kernelspec": {
   "display_name": "nlp",
   "language": "python",
   "name": "python3"
  },
  "language_info": {
   "codemirror_mode": {
    "name": "ipython",
    "version": 3
   },
   "file_extension": ".py",
   "mimetype": "text/x-python",
   "name": "python",
   "nbconvert_exporter": "python",
   "pygments_lexer": "ipython3",
   "version": "3.11.9"
  }
 },
 "nbformat": 4,
 "nbformat_minor": 2
}
