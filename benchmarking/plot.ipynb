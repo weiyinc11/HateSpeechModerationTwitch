{
 "cells": [
  {
   "cell_type": "code",
   "execution_count": null,
   "metadata": {},
   "outputs": [],
   "source": [
    "!pip install altair pandas vega_datasets selenium"
   ]
  },
  {
   "cell_type": "code",
   "execution_count": 2,
   "metadata": {},
   "outputs": [
    {
     "name": "stdout",
     "output_type": "stream",
     "text": [
      "/usr/bin/bash: line 1: npm: command not found\n"
     ]
    }
   ],
   "source": [
    "!npm install -g vega-lite vega-cli canvas"
   ]
  },
  {
   "cell_type": "code",
   "execution_count": 1,
   "metadata": {},
   "outputs": [
    {
     "name": "stdout",
     "output_type": "stream",
     "text": [
      "altair_saver: 0.5.0\n",
      "altair_viewer: 0.4.0\n"
     ]
    }
   ],
   "source": [
    "import altair_saver\n",
    "import altair_viewer\n",
    "\n",
    "print(\"altair_saver:\", altair_saver.__version__)\n",
    "print(\"altair_viewer:\", altair_viewer.__version__)"
   ]
  },
  {
   "cell_type": "code",
   "execution_count": 13,
   "metadata": {},
   "outputs": [],
   "source": [
    "import altair as alt\n",
    "import pandas as pd\n",
    "\n",
    "df = pd.read_csv('./results/benchmarking_res_final.csv')\n",
    "\n",
    "metrics = ['Recall', 'F1']\n",
    "colors = [\"#1874CD\", \"#FF6F61\"]\n",
    "\n",
    "df_long = df.melt(id_vars='model', value_vars=metrics,\n",
    "                  var_name='metric', value_name='score')\n",
    "\n",
    "df_long['score_str'] = df_long['score'].apply(lambda x: f\"{x:.2f}\".lstrip('0'))\n",
    "\n",
    "base = alt.Chart(df_long).encode(\n",
    "    y=alt.Y('model:N', axis=alt.Axis(labelFontSize=40, title=None, labelLimit=500, labelPadding=10)),\n",
    "    yOffset='metric:N'\n",
    ")\n",
    "\n",
    "bars = base.mark_bar(cornerRadiusEnd=10, opacity=0.8).encode(\n",
    "    x=alt.X('score:Q', axis=alt.Axis(labelFontSize=35, title=None, grid=True, domain=True, tickCount=5)),\n",
    "    color=alt.Color('metric:N', scale=alt.Scale(domain=metrics, range=colors),\n",
    "                    legend=alt.Legend(title=None, labelFontSize=40, orient='top'))\n",
    ").properties(\n",
    "    width=700,\n",
    "    height=70 * len(df['model'].unique()),\n",
    "    # Note: no padding here\n",
    ")\n",
    "\n",
    "text = base.mark_text(\n",
    "    align='left',\n",
    "    baseline='middle',\n",
    "    dx=3,\n",
    "    font='Liberation Sans',\n",
    "    fontSize=34,\n",
    "    color='black'\n",
    ").encode(\n",
    "    x='score:Q',\n",
    "    text=alt.Text('score_str:N')\n",
    ")\n",
    "\n",
    "# Layer the bars and text first\n",
    "chart = bars + text\n",
    "\n",
    "# Now set padding on the layered chart\n",
    "chart = chart.properties(\n",
    "    padding={\"left\": 50, \"top\": 50, \"right\": 50, \"bottom\": 50}\n",
    ")\n",
    "\n",
    "# Configure as before\n",
    "chart = chart.configure_view(stroke=None)\\\n",
    "    .configure_axis(labelFontSize=40, titleFontSize=30)\\\n",
    "    .configure_legend(labelFontSize=40, symbolSize=400, orient='top')\\\n",
    "    .configure_axisLeft(labelLimit=400)\n"
   ]
  },
  {
   "cell_type": "code",
   "execution_count": 14,
   "metadata": {},
   "outputs": [],
   "source": [
    "import vl_convert as vlc\n",
    "chart_json = chart.to_json()\n",
    "svg_str = vlc.vegalite_to_svg(chart_json)\n",
    "\n",
    "with open(\"benchmarking.svg\", \"wt\") as f:\n",
    "    f.write(svg_str)"
   ]
  }
 ],
 "metadata": {
  "kernelspec": {
   "display_name": "nlp",
   "language": "python",
   "name": "python3"
  },
  "language_info": {
   "codemirror_mode": {
    "name": "ipython",
    "version": 3
   },
   "file_extension": ".py",
   "mimetype": "text/x-python",
   "name": "python",
   "nbconvert_exporter": "python",
   "pygments_lexer": "ipython3",
   "version": "3.11.9"
  }
 },
 "nbformat": 4,
 "nbformat_minor": 2
}
